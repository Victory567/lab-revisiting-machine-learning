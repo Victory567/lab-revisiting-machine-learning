{
  "cells": [
    {
      "cell_type": "markdown",
      "metadata": {
        "id": "view-in-github",
        "colab_type": "text"
      },
      "source": [
        "<a href=\"https://colab.research.google.com/github/Victory567/lab-revisiting-machine-learning/blob/master/Untitled_(15).ipynb\" target=\"_parent\"><img src=\"https://colab.research.google.com/assets/colab-badge.svg\" alt=\"Open In Colab\"/></a>"
      ]
    },
    {
      "cell_type": "code",
      "execution_count": null,
      "id": "e5b6f76c",
      "metadata": {
        "id": "e5b6f76c"
      },
      "outputs": [],
      "source": [
        "import pandas as pd\n",
        "import numpy as np\n",
        "import datetime\n",
        "import warnings\n",
        "import matplotlib.pyplot as plt\n",
        "import seaborn as sns\n",
        "\n",
        "warnings.filterwarnings('ignore')"
      ]
    },
    {
      "cell_type": "code",
      "execution_count": null,
      "id": "14f7b042",
      "metadata": {
        "id": "14f7b042"
      },
      "outputs": [],
      "source": [
        "data = pd.read_csv('learningSet.csv')\n",
        "numerical = pd.read_csv('numerical.csv')\n",
        "categorical = pd.read_csv('categorical.csv')\n",
        "targets = pd.read_csv('target.csv')"
      ]
    },
    {
      "cell_type": "code",
      "execution_count": null,
      "id": "a1d3254e",
      "metadata": {
        "id": "a1d3254e",
        "outputId": "3d04570f-ac9d-42f5-f6d5-413bda828baa"
      },
      "outputs": [
        {
          "data": {
            "text/plain": [
              "(95412, 481)"
            ]
          },
          "execution_count": 3,
          "metadata": {},
          "output_type": "execute_result"
        }
      ],
      "source": [
        "data.shape"
      ]
    },
    {
      "cell_type": "code",
      "execution_count": null,
      "id": "66844513",
      "metadata": {
        "id": "66844513",
        "outputId": "0d321cce-e04a-4c0c-eed3-beb85cf5cd23"
      },
      "outputs": [
        {
          "data": {
            "text/html": [
              "<div>\n",
              "<style scoped>\n",
              "    .dataframe tbody tr th:only-of-type {\n",
              "        vertical-align: middle;\n",
              "    }\n",
              "\n",
              "    .dataframe tbody tr th {\n",
              "        vertical-align: top;\n",
              "    }\n",
              "\n",
              "    .dataframe thead th {\n",
              "        text-align: right;\n",
              "    }\n",
              "</style>\n",
              "<table border=\"1\" class=\"dataframe\">\n",
              "  <thead>\n",
              "    <tr style=\"text-align: right;\">\n",
              "      <th></th>\n",
              "      <th>ODATEDW</th>\n",
              "      <th>TCODE</th>\n",
              "      <th>DOB</th>\n",
              "      <th>AGE</th>\n",
              "      <th>NUMCHLD</th>\n",
              "      <th>INCOME</th>\n",
              "      <th>WEALTH1</th>\n",
              "      <th>HIT</th>\n",
              "      <th>MBCRAFT</th>\n",
              "      <th>MBGARDEN</th>\n",
              "      <th>...</th>\n",
              "      <th>FISTDATE</th>\n",
              "      <th>NEXTDATE</th>\n",
              "      <th>TIMELAG</th>\n",
              "      <th>AVGGIFT</th>\n",
              "      <th>CONTROLN</th>\n",
              "      <th>TARGET_B</th>\n",
              "      <th>TARGET_D</th>\n",
              "      <th>HPHONE_D</th>\n",
              "      <th>RFA_2F</th>\n",
              "      <th>CLUSTER2</th>\n",
              "    </tr>\n",
              "  </thead>\n",
              "  <tbody>\n",
              "    <tr>\n",
              "      <th>count</th>\n",
              "      <td>95412.000000</td>\n",
              "      <td>95412.000000</td>\n",
              "      <td>95412.000000</td>\n",
              "      <td>71747.000000</td>\n",
              "      <td>12386.000000</td>\n",
              "      <td>74126.000000</td>\n",
              "      <td>50680.000000</td>\n",
              "      <td>95412.000000</td>\n",
              "      <td>42558.000000</td>\n",
              "      <td>42558.000000</td>\n",
              "      <td>...</td>\n",
              "      <td>95412.000000</td>\n",
              "      <td>85439.000000</td>\n",
              "      <td>85439.000000</td>\n",
              "      <td>95412.000000</td>\n",
              "      <td>95412.000000</td>\n",
              "      <td>95412.000000</td>\n",
              "      <td>95412.000000</td>\n",
              "      <td>95412.000000</td>\n",
              "      <td>95412.000000</td>\n",
              "      <td>95280.000000</td>\n",
              "    </tr>\n",
              "    <tr>\n",
              "      <th>mean</th>\n",
              "      <td>9141.363256</td>\n",
              "      <td>54.223117</td>\n",
              "      <td>2723.602933</td>\n",
              "      <td>61.611649</td>\n",
              "      <td>1.527773</td>\n",
              "      <td>3.886248</td>\n",
              "      <td>5.345699</td>\n",
              "      <td>3.321438</td>\n",
              "      <td>0.152075</td>\n",
              "      <td>0.059166</td>\n",
              "      <td>...</td>\n",
              "      <td>9135.651648</td>\n",
              "      <td>9151.022917</td>\n",
              "      <td>8.093739</td>\n",
              "      <td>13.347786</td>\n",
              "      <td>95778.176959</td>\n",
              "      <td>0.050759</td>\n",
              "      <td>0.793073</td>\n",
              "      <td>0.500618</td>\n",
              "      <td>1.910053</td>\n",
              "      <td>31.533711</td>\n",
              "    </tr>\n",
              "    <tr>\n",
              "      <th>std</th>\n",
              "      <td>343.454752</td>\n",
              "      <td>953.844476</td>\n",
              "      <td>2132.241295</td>\n",
              "      <td>16.664199</td>\n",
              "      <td>0.806861</td>\n",
              "      <td>1.854960</td>\n",
              "      <td>2.742490</td>\n",
              "      <td>9.306899</td>\n",
              "      <td>0.470023</td>\n",
              "      <td>0.262078</td>\n",
              "      <td>...</td>\n",
              "      <td>320.394019</td>\n",
              "      <td>294.257260</td>\n",
              "      <td>8.213242</td>\n",
              "      <td>10.769997</td>\n",
              "      <td>55284.596094</td>\n",
              "      <td>0.219506</td>\n",
              "      <td>4.429725</td>\n",
              "      <td>0.500002</td>\n",
              "      <td>1.072749</td>\n",
              "      <td>18.764614</td>\n",
              "    </tr>\n",
              "    <tr>\n",
              "      <th>min</th>\n",
              "      <td>8306.000000</td>\n",
              "      <td>0.000000</td>\n",
              "      <td>0.000000</td>\n",
              "      <td>1.000000</td>\n",
              "      <td>1.000000</td>\n",
              "      <td>1.000000</td>\n",
              "      <td>0.000000</td>\n",
              "      <td>0.000000</td>\n",
              "      <td>0.000000</td>\n",
              "      <td>0.000000</td>\n",
              "      <td>...</td>\n",
              "      <td>0.000000</td>\n",
              "      <td>7211.000000</td>\n",
              "      <td>0.000000</td>\n",
              "      <td>1.285714</td>\n",
              "      <td>1.000000</td>\n",
              "      <td>0.000000</td>\n",
              "      <td>0.000000</td>\n",
              "      <td>0.000000</td>\n",
              "      <td>1.000000</td>\n",
              "      <td>1.000000</td>\n",
              "    </tr>\n",
              "    <tr>\n",
              "      <th>25%</th>\n",
              "      <td>8801.000000</td>\n",
              "      <td>0.000000</td>\n",
              "      <td>201.000000</td>\n",
              "      <td>48.000000</td>\n",
              "      <td>1.000000</td>\n",
              "      <td>2.000000</td>\n",
              "      <td>3.000000</td>\n",
              "      <td>0.000000</td>\n",
              "      <td>0.000000</td>\n",
              "      <td>0.000000</td>\n",
              "      <td>...</td>\n",
              "      <td>8810.000000</td>\n",
              "      <td>8903.000000</td>\n",
              "      <td>4.000000</td>\n",
              "      <td>8.384615</td>\n",
              "      <td>47910.750000</td>\n",
              "      <td>0.000000</td>\n",
              "      <td>0.000000</td>\n",
              "      <td>0.000000</td>\n",
              "      <td>1.000000</td>\n",
              "      <td>15.000000</td>\n",
              "    </tr>\n",
              "    <tr>\n",
              "      <th>50%</th>\n",
              "      <td>9201.000000</td>\n",
              "      <td>1.000000</td>\n",
              "      <td>2610.000000</td>\n",
              "      <td>62.000000</td>\n",
              "      <td>1.000000</td>\n",
              "      <td>4.000000</td>\n",
              "      <td>6.000000</td>\n",
              "      <td>0.000000</td>\n",
              "      <td>0.000000</td>\n",
              "      <td>0.000000</td>\n",
              "      <td>...</td>\n",
              "      <td>9201.000000</td>\n",
              "      <td>9204.000000</td>\n",
              "      <td>6.000000</td>\n",
              "      <td>11.636364</td>\n",
              "      <td>95681.500000</td>\n",
              "      <td>0.000000</td>\n",
              "      <td>0.000000</td>\n",
              "      <td>1.000000</td>\n",
              "      <td>2.000000</td>\n",
              "      <td>32.000000</td>\n",
              "    </tr>\n",
              "    <tr>\n",
              "      <th>75%</th>\n",
              "      <td>9501.000000</td>\n",
              "      <td>2.000000</td>\n",
              "      <td>4601.000000</td>\n",
              "      <td>75.000000</td>\n",
              "      <td>2.000000</td>\n",
              "      <td>5.000000</td>\n",
              "      <td>8.000000</td>\n",
              "      <td>3.000000</td>\n",
              "      <td>0.000000</td>\n",
              "      <td>0.000000</td>\n",
              "      <td>...</td>\n",
              "      <td>9409.000000</td>\n",
              "      <td>9409.000000</td>\n",
              "      <td>11.000000</td>\n",
              "      <td>15.477955</td>\n",
              "      <td>143643.500000</td>\n",
              "      <td>0.000000</td>\n",
              "      <td>0.000000</td>\n",
              "      <td>1.000000</td>\n",
              "      <td>3.000000</td>\n",
              "      <td>49.000000</td>\n",
              "    </tr>\n",
              "    <tr>\n",
              "      <th>max</th>\n",
              "      <td>9701.000000</td>\n",
              "      <td>72002.000000</td>\n",
              "      <td>9710.000000</td>\n",
              "      <td>98.000000</td>\n",
              "      <td>7.000000</td>\n",
              "      <td>7.000000</td>\n",
              "      <td>9.000000</td>\n",
              "      <td>241.000000</td>\n",
              "      <td>6.000000</td>\n",
              "      <td>4.000000</td>\n",
              "      <td>...</td>\n",
              "      <td>9603.000000</td>\n",
              "      <td>9702.000000</td>\n",
              "      <td>1088.000000</td>\n",
              "      <td>1000.000000</td>\n",
              "      <td>191779.000000</td>\n",
              "      <td>1.000000</td>\n",
              "      <td>200.000000</td>\n",
              "      <td>1.000000</td>\n",
              "      <td>4.000000</td>\n",
              "      <td>62.000000</td>\n",
              "    </tr>\n",
              "  </tbody>\n",
              "</table>\n",
              "<p>8 rows × 407 columns</p>\n",
              "</div>"
            ],
            "text/plain": [
              "            ODATEDW         TCODE           DOB           AGE       NUMCHLD  \\\n",
              "count  95412.000000  95412.000000  95412.000000  71747.000000  12386.000000   \n",
              "mean    9141.363256     54.223117   2723.602933     61.611649      1.527773   \n",
              "std      343.454752    953.844476   2132.241295     16.664199      0.806861   \n",
              "min     8306.000000      0.000000      0.000000      1.000000      1.000000   \n",
              "25%     8801.000000      0.000000    201.000000     48.000000      1.000000   \n",
              "50%     9201.000000      1.000000   2610.000000     62.000000      1.000000   \n",
              "75%     9501.000000      2.000000   4601.000000     75.000000      2.000000   \n",
              "max     9701.000000  72002.000000   9710.000000     98.000000      7.000000   \n",
              "\n",
              "             INCOME       WEALTH1           HIT       MBCRAFT      MBGARDEN  \\\n",
              "count  74126.000000  50680.000000  95412.000000  42558.000000  42558.000000   \n",
              "mean       3.886248      5.345699      3.321438      0.152075      0.059166   \n",
              "std        1.854960      2.742490      9.306899      0.470023      0.262078   \n",
              "min        1.000000      0.000000      0.000000      0.000000      0.000000   \n",
              "25%        2.000000      3.000000      0.000000      0.000000      0.000000   \n",
              "50%        4.000000      6.000000      0.000000      0.000000      0.000000   \n",
              "75%        5.000000      8.000000      3.000000      0.000000      0.000000   \n",
              "max        7.000000      9.000000    241.000000      6.000000      4.000000   \n",
              "\n",
              "       ...      FISTDATE      NEXTDATE       TIMELAG       AVGGIFT  \\\n",
              "count  ...  95412.000000  85439.000000  85439.000000  95412.000000   \n",
              "mean   ...   9135.651648   9151.022917      8.093739     13.347786   \n",
              "std    ...    320.394019    294.257260      8.213242     10.769997   \n",
              "min    ...      0.000000   7211.000000      0.000000      1.285714   \n",
              "25%    ...   8810.000000   8903.000000      4.000000      8.384615   \n",
              "50%    ...   9201.000000   9204.000000      6.000000     11.636364   \n",
              "75%    ...   9409.000000   9409.000000     11.000000     15.477955   \n",
              "max    ...   9603.000000   9702.000000   1088.000000   1000.000000   \n",
              "\n",
              "            CONTROLN      TARGET_B      TARGET_D      HPHONE_D        RFA_2F  \\\n",
              "count   95412.000000  95412.000000  95412.000000  95412.000000  95412.000000   \n",
              "mean    95778.176959      0.050759      0.793073      0.500618      1.910053   \n",
              "std     55284.596094      0.219506      4.429725      0.500002      1.072749   \n",
              "min         1.000000      0.000000      0.000000      0.000000      1.000000   \n",
              "25%     47910.750000      0.000000      0.000000      0.000000      1.000000   \n",
              "50%     95681.500000      0.000000      0.000000      1.000000      2.000000   \n",
              "75%    143643.500000      0.000000      0.000000      1.000000      3.000000   \n",
              "max    191779.000000      1.000000    200.000000      1.000000      4.000000   \n",
              "\n",
              "           CLUSTER2  \n",
              "count  95280.000000  \n",
              "mean      31.533711  \n",
              "std       18.764614  \n",
              "min        1.000000  \n",
              "25%       15.000000  \n",
              "50%       32.000000  \n",
              "75%       49.000000  \n",
              "max       62.000000  \n",
              "\n",
              "[8 rows x 407 columns]"
            ]
          },
          "execution_count": 4,
          "metadata": {},
          "output_type": "execute_result"
        }
      ],
      "source": [
        "data.describe()"
      ]
    },
    {
      "cell_type": "code",
      "execution_count": null,
      "id": "86d6efbf",
      "metadata": {
        "id": "86d6efbf",
        "outputId": "5788ef2d-82ab-4bc7-dbbc-bc67117b0e08"
      },
      "outputs": [
        {
          "name": "stdout",
          "output_type": "stream",
          "text": [
            "Requirement already satisfied: perfplot in c:\\users\\dell\\anaconda3\\lib\\site-packages (0.10.2)\n",
            "Requirement already satisfied: rich in c:\\users\\dell\\anaconda3\\lib\\site-packages (from perfplot) (13.3.1)\n",
            "Requirement already satisfied: matplotx in c:\\users\\dell\\anaconda3\\lib\\site-packages (from perfplot) (0.3.10)\n",
            "Requirement already satisfied: numpy in c:\\users\\dell\\anaconda3\\lib\\site-packages (from perfplot) (1.21.5)\n",
            "Requirement already satisfied: matplotlib in c:\\users\\dell\\anaconda3\\lib\\site-packages (from perfplot) (3.5.1)\n",
            "Requirement already satisfied: pyparsing>=2.2.1 in c:\\users\\dell\\anaconda3\\lib\\site-packages (from matplotlib->perfplot) (3.0.4)\n",
            "Requirement already satisfied: packaging>=20.0 in c:\\users\\dell\\anaconda3\\lib\\site-packages (from matplotlib->perfplot) (21.3)\n",
            "Requirement already satisfied: python-dateutil>=2.7 in c:\\users\\dell\\anaconda3\\lib\\site-packages (from matplotlib->perfplot) (2.8.2)\n",
            "Requirement already satisfied: fonttools>=4.22.0 in c:\\users\\dell\\anaconda3\\lib\\site-packages (from matplotlib->perfplot) (4.25.0)\n",
            "Requirement already satisfied: pillow>=6.2.0 in c:\\users\\dell\\anaconda3\\lib\\site-packages (from matplotlib->perfplot) (9.0.1)\n",
            "Requirement already satisfied: cycler>=0.10 in c:\\users\\dell\\anaconda3\\lib\\site-packages (from matplotlib->perfplot) (0.11.0)\n",
            "Requirement already satisfied: kiwisolver>=1.0.1 in c:\\users\\dell\\anaconda3\\lib\\site-packages (from matplotlib->perfplot) (1.3.2)\n",
            "Requirement already satisfied: six>=1.5 in c:\\users\\dell\\anaconda3\\lib\\site-packages (from python-dateutil>=2.7->matplotlib->perfplot) (1.16.0)\n",
            "Requirement already satisfied: markdown-it-py<3.0.0,>=2.1.0 in c:\\users\\dell\\anaconda3\\lib\\site-packages (from rich->perfplot) (2.1.0)\n",
            "Requirement already satisfied: pygments<3.0.0,>=2.14.0 in c:\\users\\dell\\anaconda3\\lib\\site-packages (from rich->perfplot) (2.14.0)\n",
            "Requirement already satisfied: mdurl~=0.1 in c:\\users\\dell\\anaconda3\\lib\\site-packages (from markdown-it-py<3.0.0,>=2.1.0->rich->perfplot) (0.1.2)\n",
            "Note: you may need to restart the kernel to use updated packages.\n"
          ]
        }
      ],
      "source": [
        "pip install perfplot\n"
      ]
    },
    {
      "cell_type": "code",
      "execution_count": null,
      "id": "f6f294cf",
      "metadata": {
        "id": "f6f294cf",
        "outputId": "5a6c96c9-f446-4cc9-ed05-c4326372d0f8"
      },
      "outputs": [
        {
          "data": {
            "text/plain": [
              "<bound method DataFrame.info of        STATE  CLUSTER HOMEOWNR GENDER  DATASRCE RFA_2R RFA_2A GEOCODE2  \\\n",
              "0         IL       36        H      F         3      L      E        C   \n",
              "1         CA       14        H      M         3      L      G        A   \n",
              "2         NC       43        U      M         3      L      E        C   \n",
              "3         CA       44        U      F         3      L      E        C   \n",
              "4         FL       16        H      F         3      L      F        A   \n",
              "...      ...      ...      ...    ...       ...    ...    ...      ...   \n",
              "95407  other       27        H      M         3      L      G        C   \n",
              "95408     TX       24        H      M         3      L      F        A   \n",
              "95409     MI       30        H      M         3      L      E        B   \n",
              "95410     CA       24        H      F         2      L      F        A   \n",
              "95411     NC       24        U      F         3      L      G        C   \n",
              "\n",
              "      DOMAIN_A  DOMAIN_B  ...  DOB_YR  DOB_MM  MINRDATE_YR  MINRDATE_MM  \\\n",
              "0            T         2  ...      37      12           92            8   \n",
              "1            S         1  ...      52       2           93           10   \n",
              "2            R         2  ...       0       2           91           11   \n",
              "3            R         2  ...      28       1           87           11   \n",
              "4            S         2  ...      20       1           93           10   \n",
              "...        ...       ...  ...     ...     ...          ...          ...   \n",
              "95407        C         2  ...       0       2           96            2   \n",
              "95408        C         1  ...      50       1           96            3   \n",
              "95409        C         3  ...      38       1           96            3   \n",
              "95410        C         1  ...      40       5           90           11   \n",
              "95411        C         1  ...      18       1           88           12   \n",
              "\n",
              "       MAXRDATE_YR  MAXRDATE_MM  LASTDATE_YR  LASTDATE_MM  FIRSTDATE_YR  \\\n",
              "0               94            2           95           12            89   \n",
              "1               95           12           95           12            93   \n",
              "2               92            7           95           12            90   \n",
              "3               94           11           95           12            87   \n",
              "4               96            1           96            1            79   \n",
              "...            ...          ...          ...          ...           ...   \n",
              "95407           96            2           96            2            96   \n",
              "95408           96            3           96            3            96   \n",
              "95409           95            1           96           10            94   \n",
              "95410           96            8           97            1            86   \n",
              "95411           93           12           96           12            88   \n",
              "\n",
              "       FIRSTDATE_MM  \n",
              "0              11.0  \n",
              "1              10.0  \n",
              "2               1.0  \n",
              "3               2.0  \n",
              "4               3.0  \n",
              "...             ...  \n",
              "95407           2.0  \n",
              "95408           3.0  \n",
              "95409          10.0  \n",
              "95410          12.0  \n",
              "95411           3.0  \n",
              "\n",
              "[95412 rows x 22 columns]>"
            ]
          },
          "execution_count": 19,
          "metadata": {},
          "output_type": "execute_result"
        }
      ],
      "source": [
        "categorical.info"
      ]
    },
    {
      "cell_type": "code",
      "execution_count": null,
      "id": "cef9cb98",
      "metadata": {
        "id": "cef9cb98",
        "outputId": "293dba57-0bd6-4190-af44-ad55fd828c9b",
        "colab": {
          "referenced_widgets": [
            "5b6d7d8f34a344bca738abb5ed0d9e2a"
          ]
        }
      },
      "outputs": [
        {
          "data": {
            "application/vnd.jupyter.widget-view+json": {
              "model_id": "5b6d7d8f34a344bca738abb5ed0d9e2a",
              "version_major": 2,
              "version_minor": 0
            },
            "text/plain": [
              "Output()"
            ]
          },
          "metadata": {},
          "output_type": "display_data"
        },
        {
          "data": {
            "text/html": [
              "<pre style=\"white-space:pre;overflow-x:auto;line-height:normal;font-family:Menlo,'DejaVu Sans Mono',consolas,'Courier New',monospace\"></pre>\n"
            ],
            "text/plain": []
          },
          "metadata": {},
          "output_type": "display_data"
        },
        {
          "data": {
            "text/html": [
              "<pre style=\"white-space:pre;overflow-x:auto;line-height:normal;font-family:Menlo,'DejaVu Sans Mono',consolas,'Courier New',monospace\">\n",
              "</pre>\n"
            ],
            "text/plain": [
              "\n"
            ]
          },
          "metadata": {},
          "output_type": "display_data"
        }
      ],
      "source": [
        "import numpy as np\n",
        "import pandas as pd\n",
        "import perfplot\n",
        "\n",
        "\n",
        "def setup(n):\n",
        "    df = pd.DataFrame(np.random.randn(n))\n",
        "    df[df > 0.9] = np.nan\n",
        "    return df\n",
        "\n",
        "\n",
        "def isnull_any(df):\n",
        "    return df.isnull().any()\n",
        "\n",
        "\n",
        "def isnull_values_sum(df):\n",
        "    return df.isnull().values.sum() > 0\n",
        "\n",
        "\n",
        "def isnull_sum(df):\n",
        "    return df.isnull().sum() > 0\n",
        "\n",
        "\n",
        "def isnull_values_any(df):\n",
        "    return df.isnull().values.any()\n",
        "\n",
        "\n",
        "perfplot.save(\n",
        "    \"out.png\",\n",
        "    setup=setup,\n",
        "    kernels=[isnull_any, isnull_values_sum, isnull_sum, isnull_values_any],\n",
        "    n_range=[2 ** k for k in range(25)],\n",
        ")"
      ]
    },
    {
      "cell_type": "code",
      "execution_count": null,
      "id": "f301830b",
      "metadata": {
        "id": "f301830b",
        "outputId": "eaa02300-b080-4636-8789-c552e407eb7b"
      },
      "outputs": [
        {
          "name": "stdout",
          "output_type": "stream",
          "text": [
            "Column 1    True\n",
            "Column 2    True\n",
            "Column 3    True\n",
            "dtype: bool\n"
          ]
        }
      ],
      "source": [
        "\n",
        "data = {'Column 1': [1, 2, 3, None], 'Column 2': ['A', None, 'C', 'D'], 'Column 3': [True, False, None, True]}\n",
        "df = pd.DataFrame(data)\n",
        "\n",
        "\n",
        "print(df.isnull().any())"
      ]
    },
    {
      "cell_type": "code",
      "execution_count": null,
      "id": "d1ffabb9",
      "metadata": {
        "id": "d1ffabb9"
      },
      "outputs": [],
      "source": [
        "drop_list = []"
      ]
    },
    {
      "cell_type": "code",
      "execution_count": null,
      "id": "c63b551c",
      "metadata": {
        "id": "c63b551c"
      },
      "outputs": [],
      "source": [
        "drop_list.append('OSOURCE')\n",
        "drop_list.append('ZIP CODE')\n"
      ]
    },
    {
      "cell_type": "code",
      "execution_count": null,
      "id": "bdad6bb2",
      "metadata": {
        "id": "bdad6bb2",
        "outputId": "567ba955-f85c-4cac-a809-8a0b7e3145e3"
      },
      "outputs": [
        {
          "name": "stdout",
          "output_type": "stream",
          "text": [
            "['Column 4', 'Column 6']\n"
          ]
        }
      ],
      "source": [
        "import pandas as pd\n",
        "\n",
        "\n",
        "data = {'Column 1': [1, 2, 3, None], 'Column 2': ['A', None, 'C', 'D'], 'Column 3': [True, False, None, True], 'Column 4': [None, None, None, None], 'Column 5': [1, 2, None, 4], 'Column 6': [None, None, None, None]}\n",
        "df = pd.DataFrame(data)\n",
        "threshold = 0.85\n",
        "percent_missing = df.isnull().sum() / len(df)\n",
        "drop_list = percent_missing[percent_missing > threshold].index.tolist()\n",
        "\n",
        "print(drop_list)"
      ]
    },
    {
      "cell_type": "code",
      "execution_count": null,
      "id": "003ea270",
      "metadata": {
        "id": "003ea270",
        "outputId": "525362d6-138e-4137-aefa-409c648d789f"
      },
      "outputs": [
        {
          "name": "stdout",
          "output_type": "stream",
          "text": [
            "   Column 1 Column 2 Column 3  Column 5\n",
            "0       1.0        A     True       1.0\n",
            "1       2.0     None    False       2.0\n",
            "2       3.0        C     None       NaN\n",
            "3       NaN        D     True       4.0\n"
          ]
        }
      ],
      "source": [
        "\n",
        "data = {'Column 1': [1, 2, 3, None], 'Column 2': ['A', None, 'C', 'D'], 'Column 3': [True, False, None, True], 'Column 4': [None, None, None, None], 'Column 5': [1, 2, None, 4], 'Column 6': [None, None, None, None]}\n",
        "df = pd.DataFrame(data)\n",
        "threshold = 0.85\n",
        "percent_missing = df.isnull().sum() / len(df)\n",
        "drop_list = percent_missing[percent_missing > threshold].index.tolist()\n",
        "df = df.drop(drop_list, axis=1)\n",
        "\n",
        "print(df)"
      ]
    },
    {
      "cell_type": "code",
      "execution_count": null,
      "id": "b0a1d879",
      "metadata": {
        "id": "b0a1d879",
        "outputId": "a35dab31-3152-4911-f2c0-ae3a4bc860c7"
      },
      "outputs": [
        {
          "name": "stdout",
          "output_type": "stream",
          "text": [
            "F        54234\n",
            "M        39094\n",
            "other     2084\n",
            "Name: GENDER, dtype: int64\n"
          ]
        }
      ],
      "source": [
        "print(categorical['GENDER'].value_counts())\n",
        "categorical['GENDER'] = categorical['GENDER'].fillna('F')"
      ]
    },
    {
      "cell_type": "code",
      "execution_count": null,
      "id": "57a5efb8",
      "metadata": {
        "id": "57a5efb8",
        "outputId": "82440564-da94-422c-d240-34f1cb2adc3e"
      },
      "outputs": [
        {
          "name": "stdout",
          "output_type": "stream",
          "text": [
            "   Name  Gender Gender (new)\n",
            "0  John    Male            M\n",
            "1  Jane  Female            F\n",
            "2   Bob       M        Other\n",
            "3  Mary   Other        Other\n"
          ]
        }
      ],
      "source": [
        "\n",
        "data = {'Name': ['John', 'Jane', 'Bob', 'Mary'], 'Gender': ['Male', 'Female', 'M', 'Other']}\n",
        "df = pd.DataFrame(data)\n",
        "df['Gender (new)'] = df['Gender'].map({'Male': 'M', 'Female': 'F'}).fillna('Other')\n",
        "\n",
        "print(df)"
      ]
    },
    {
      "cell_type": "code",
      "execution_count": null,
      "id": "bd14fe96",
      "metadata": {
        "id": "bd14fe96"
      },
      "outputs": [],
      "source": []
    }
  ],
  "metadata": {
    "kernelspec": {
      "display_name": "Python 3 (ipykernel)",
      "language": "python",
      "name": "python3"
    },
    "language_info": {
      "codemirror_mode": {
        "name": "ipython",
        "version": 3
      },
      "file_extension": ".py",
      "mimetype": "text/x-python",
      "name": "python",
      "nbconvert_exporter": "python",
      "pygments_lexer": "ipython3",
      "version": "3.9.12"
    },
    "colab": {
      "provenance": [],
      "include_colab_link": true
    }
  },
  "nbformat": 4,
  "nbformat_minor": 5
}